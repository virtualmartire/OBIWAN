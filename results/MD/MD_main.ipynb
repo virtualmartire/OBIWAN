{
 "cells": [
  {
   "cell_type": "code",
   "execution_count": null,
   "metadata": {},
   "outputs": [],
   "source": [
    "%cd ../.."
   ]
  },
  {
   "cell_type": "code",
   "execution_count": null,
   "metadata": {},
   "outputs": [],
   "source": [
    "from results.MD import MD_utils\n",
    "from results.MD import MD_engine\n",
    "from architectures import net_utils\n",
    "import tensorflow as tf"
   ]
  },
  {
   "cell_type": "code",
   "execution_count": null,
   "metadata": {},
   "outputs": [],
   "source": [
    "import matplotlib.pyplot as plt\n",
    "import numpy as np"
   ]
  },
  {
   "cell_type": "markdown",
   "metadata": {},
   "source": [
    "## MD settings"
   ]
  },
  {
   "cell_type": "code",
   "execution_count": null,
   "metadata": {},
   "outputs": [],
   "source": [
    "chosen_dtype = 'float32'\n",
    "tf.keras.backend.set_floatx(chosen_dtype)\n",
    "tf.keras.mixed_precision.set_global_policy(chosen_dtype)\n",
    "\n",
    "settings = MD_utils.Settings()\n",
    "settings.dt = 0.001    # time step [ps]\n",
    "settings.seed = 777\n",
    "settings.int_type = 'vv_gromacs'\n",
    "settings.strideSaving = 10        # every strideSaving steps we save the chosen properties\n",
    "\n",
    "input_file = \"results/MD/inputs/K3T/K3T_angle.sdf\"\n",
    "\n",
    "# settings.pdbFileName = \"results/MD/mdTraj.pdb\"\n",
    "settings.xyzFileName = \"results/MD/outputs/K3T_angle_traj_1fs.xyz\"\n",
    "save_forces = True\n",
    "settings.forcesFileName = \"results/MD/outputs/K3T_angle_traj_1fs.forces\""
   ]
  },
  {
   "cell_type": "markdown",
   "metadata": {},
   "source": [
    "## System settings"
   ]
  },
  {
   "cell_type": "markdown",
   "metadata": {},
   "source": [
    "Inputs must be in **Angstrom**"
   ]
  },
  {
   "cell_type": "code",
   "execution_count": null,
   "metadata": {},
   "outputs": [],
   "source": [
    "numberAtoms, coords, types, masses = MD_utils.readSDFile(input_file)    # in Angstrom\n",
    "box_sizes = tf.constant([1000.0,1000.0,1000.0], dtype=chosen_dtype)     # in Angstrom\n",
    "\n",
    "coords = tf.cast(coords/10.0, dtype=chosen_dtype)           # convert Angstrom to nm for the MD\n",
    "box_sizes = tf.cast(box_sizes/10.0, dtype=chosen_dtype)\n",
    "masses = tf.expand_dims(masses, axis=-1)\n",
    "masses = tf.tile(masses, [1, 3])\n",
    "masses = tf.cast(masses, dtype=chosen_dtype)"
   ]
  },
  {
   "cell_type": "markdown",
   "metadata": {},
   "source": [
    "# NNP"
   ]
  },
  {
   "cell_type": "code",
   "execution_count": null,
   "metadata": {},
   "outputs": [],
   "source": [
    "obiwan = net_utils.getModel(\n",
    "                    model_name=\"obiwan\",\n",
    "                    dynamic_mode=True,\n",
    "                    weights=\"results/models/obiwan_ani1Uani2_FH_VL_2.404\",\n",
    "                )"
   ]
  },
  {
   "cell_type": "code",
   "execution_count": null,
   "metadata": {},
   "outputs": [],
   "source": [
    "@tf.function\n",
    "def energy_tf(coordinates, box_sizes, species):\n",
    "    # Convert nm to Angstrom for Obiwan\n",
    "    coordinates = coordinates * 10.\n",
    "    box_sizes = box_sizes * 10.\n",
    "    # Add batch dimension\n",
    "    coordinates = tf.expand_dims(coordinates, axis=0)\n",
    "    species = tf.expand_dims(species, axis=0)\n",
    "    box_sizes = tf.expand_dims(box_sizes, axis=0)\n",
    "    # Compute energy and remove batch dimension\n",
    "    energy = obiwan([coordinates, species, box_sizes])\n",
    "    energy = tf.squeeze(energy)\n",
    "    # Convert Ha to kJ/mol for saving\n",
    "    energy = energy * 2625.5\n",
    "    return energy"
   ]
  },
  {
   "cell_type": "markdown",
   "metadata": {},
   "source": [
    "# Setup and run"
   ]
  },
  {
   "cell_type": "code",
   "execution_count": null,
   "metadata": {},
   "outputs": [],
   "source": [
    "sys = MD_utils.System(chosen_dtype)\n",
    "sys.getNNSys(numberAtoms, box_sizes, masses, coords, energy_tf, types)\n",
    "md = MD_engine.MolecularDynamics(settings, sys, chosen_dtype, wrapping=False, save_forces=save_forces)\n",
    "\n",
    "md.initState()"
   ]
  },
  {
   "cell_type": "code",
   "execution_count": null,
   "metadata": {},
   "outputs": [],
   "source": [
    "eta = 1e-6\n",
    "maxIt = 1_000_000\n",
    "stopCond = [\"max_force\", 0.6]      # the real condition\n",
    "md.minimize(eta, stopCond, maxIt)"
   ]
  },
  {
   "cell_type": "code",
   "execution_count": null,
   "metadata": {},
   "outputs": [],
   "source": [
    "md.settings.T = tf.constant(100.0, dtype=chosen_dtype)\n",
    "numSteps = 1_000            # 1 ps\n",
    "md.run(numSteps)\n",
    "\n",
    "md.settings.T = tf.constant(200.0, dtype=chosen_dtype)\n",
    "md.run(numSteps, append_results=True)\n",
    "\n",
    "md.settings.T = tf.constant(300.0, dtype=chosen_dtype)\n",
    "numSteps = 1_000_000        # 1 ns\n",
    "md.run(numSteps, append_results=True)"
   ]
  },
  {
   "cell_type": "markdown",
   "metadata": {},
   "source": [
    "# Visualization"
   ]
  },
  {
   "cell_type": "code",
   "execution_count": null,
   "metadata": {},
   "outputs": [],
   "source": [
    "xyz, typ, Na, energies = MD_utils.readXYZ(\"results/MD/outputs/K3T_angle_traj_1fs.xyz\")"
   ]
  },
  {
   "cell_type": "code",
   "execution_count": null,
   "metadata": {},
   "outputs": [],
   "source": [
    "energies = np.array(energies, dtype=np.float32)\n",
    "energies = energies[200:]   # remove temperature equilibration"
   ]
  },
  {
   "cell_type": "code",
   "execution_count": null,
   "metadata": {},
   "outputs": [],
   "source": [
    "energies = energies[-2500:]     # last 25 ps (we saved every 10 steps)\n",
    "\n",
    "steps = np.arange(0, len(energies), dtype=np.float32)\n",
    "steps /= 100    # convert to ps"
   ]
  },
  {
   "cell_type": "code",
   "execution_count": null,
   "metadata": {},
   "outputs": [],
   "source": [
    "energies = energies - np.mean(energies)     # center around 0\n",
    "energies /= 4.184       # convert to kcal/mol"
   ]
  },
  {
   "cell_type": "code",
   "execution_count": null,
   "metadata": {},
   "outputs": [],
   "source": [
    "# set the size of all the fonts to 14\n",
    "plt.rc('font', size=14)\n",
    "\n",
    "plt.plot(steps, energies, color='blue')\n",
    "plt.xlabel(\"Time [ps]\")\n",
    "plt.ylabel(\"Energy [kcal/mol]\")\n",
    "\n",
    "plt.grid(color='0.9')\n",
    "\n",
    "fig = plt.gcf()\n",
    "fig.set_size_inches(12, 5)"
   ]
  }
 ],
 "metadata": {
  "kernelspec": {
   "display_name": "obiwan",
   "language": "python",
   "name": "python3"
  },
  "language_info": {
   "codemirror_mode": {
    "name": "ipython",
    "version": 3
   },
   "file_extension": ".py",
   "mimetype": "text/x-python",
   "name": "python",
   "nbconvert_exporter": "python",
   "pygments_lexer": "ipython3",
   "version": "3.9.19"
  }
 },
 "nbformat": 4,
 "nbformat_minor": 2
}
