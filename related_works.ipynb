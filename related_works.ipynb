{
 "cells": [
  {
   "cell_type": "markdown",
   "metadata": {},
   "source": [
    "Comparison of OBIWAN with ANAKIN and W-ANAKIN."
   ]
  },
  {
   "cell_type": "code",
   "execution_count": null,
   "metadata": {},
   "outputs": [],
   "source": [
    "import matplotlib.pyplot as plt\n",
    "import json"
   ]
  },
  {
   "cell_type": "code",
   "execution_count": null,
   "metadata": {},
   "outputs": [],
   "source": [
    "with open(\"results/logs/ani2_comparison/anakin_ani2.json\", \"r\") as f:\n",
    "    anakin_ani2_dict = json.load(f)\n",
    "\n",
    "with open(\"results/logs/ani2_comparison/w_anakin_ani2.json\", \"r\") as f:\n",
    "    w_anakin_ani2_dict = json.load(f)\n",
    "\n",
    "with open(\"results/logs/ani2_comparison/w_anakin_oe_ani2.json\", \"r\") as f:\n",
    "    w_anakin_oe_ani2_dict = json.load(f)\n",
    "\n",
    "with open(\"results/logs/ani2_comparison/w_anakin_oe_full_ani2.json\", \"r\") as f:\n",
    "    w_anakin_oe_full_ani2_dict = json.load(f)\n",
    "\n",
    "with open(\"results/logs/ani2_comparison/obiwan_ani2.json\", \"r\") as f:\n",
    "    obiwan_ani2_dict = json.load(f)"
   ]
  },
  {
   "cell_type": "code",
   "execution_count": null,
   "metadata": {},
   "outputs": [],
   "source": [
    "# set the size of all the fonts to 14\n",
    "plt.rc('font', size=14)\n",
    "\n",
    "plt.plot(anakin_ani2_dict['anakin_ani2']['val_energyRMSE'], label='anakin', color='red')\n",
    "plt.plot(w_anakin_ani2_dict['w_anakin_ani2']['val_energyRMSE'], label='w-anakin', color='0.')\n",
    "plt.plot(w_anakin_oe_ani2_dict['w_anakin_oe_ani2']['val_energyRMSE'], label='w-anakin-oe', color='0.3')\n",
    "plt.plot(w_anakin_oe_full_ani2_dict['w_anakin_oe_full_ani2']['val_energyRMSE'], label='w-anakin-oe-full', color='0.6')\n",
    "plt.plot(obiwan_ani2_dict['obiwan_ani2']['val_energyRMSE'], label='obiwan', color='blue')\n",
    "\n",
    "plt.legend()\n",
    "plt.ylim(0., 10.)\n",
    "plt.xlabel('Epoch')\n",
    "plt.ylabel('RMSE [kcal/mol]')\n",
    "plt.title('Energy error on the ani2x validation set')\n",
    "\n",
    "plt.axhline(y=1, color='black', linestyle='-.')\n",
    "plt.text(0, 1.1, 'chemical accuracy', color = 'black')\n",
    "\n",
    "plt.yticks(range(11))\n",
    "plt.grid(color='0.9')\n",
    "\n",
    "fig = plt.gcf()\n",
    "fig.set_size_inches(10, 8)\n",
    "\n",
    "plt.savefig(\"results/ani2_energy_error.png\", dpi=300)"
   ]
  }
 ],
 "metadata": {
  "kernelspec": {
   "display_name": "obiwan",
   "language": "python",
   "name": "python3"
  },
  "language_info": {
   "codemirror_mode": {
    "name": "ipython",
    "version": 3
   },
   "file_extension": ".py",
   "mimetype": "text/x-python",
   "name": "python",
   "nbconvert_exporter": "python",
   "pygments_lexer": "ipython3",
   "version": "3.9.18"
  }
 },
 "nbformat": 4,
 "nbformat_minor": 2
}
