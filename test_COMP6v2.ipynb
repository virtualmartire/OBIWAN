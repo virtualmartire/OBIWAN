{
 "cells": [
  {
   "cell_type": "markdown",
   "metadata": {},
   "source": [
    "A routine to test OBIWAN on the COMP6v2 benchmark suite."
   ]
  },
  {
   "cell_type": "code",
   "execution_count": null,
   "metadata": {},
   "outputs": [],
   "source": [
    "import glob\n",
    "import pandas as pd\n",
    "import matplotlib.pyplot as plt\n",
    "import numpy as np\n",
    "import json"
   ]
  },
  {
   "cell_type": "code",
   "execution_count": null,
   "metadata": {},
   "outputs": [],
   "source": [
    "from data import datasetting\n",
    "from architectures.net_utils import getModel"
   ]
  },
  {
   "cell_type": "code",
   "execution_count": null,
   "metadata": {},
   "outputs": [],
   "source": [
    "checkpoint_path = \"results/models/obiwan_ani1Uani2_FH_VL_2.404\"\n",
    "model_name = \"obiwan\""
   ]
  },
  {
   "cell_type": "markdown",
   "metadata": {},
   "source": [
    "# COMP6v2 visualization"
   ]
  },
  {
   "cell_type": "code",
   "execution_count": null,
   "metadata": {},
   "outputs": [],
   "source": [
    "def cardinalityAndMaxSizeMeter(dataset):\n",
    "\n",
    "    max_size = 0\n",
    "    cardinality = 0\n",
    "\n",
    "    for (coords, species), energy in iter(dataset):\n",
    "        size = species.shape[0]\n",
    "        if size > max_size:\n",
    "            max_size = size\n",
    "        cardinality += 1\n",
    "\n",
    "    return cardinality, max_size"
   ]
  },
  {
   "cell_type": "code",
   "execution_count": null,
   "metadata": {},
   "outputs": [],
   "source": [
    "ds_path_list = glob.glob(\"data/datasets/comp6v2/*.h5\")\n",
    "\n",
    "ds_generator_list = [datasetting.COMP6v2Yielder(ds_path) for ds_path in ds_path_list]"
   ]
  },
  {
   "cell_type": "code",
   "execution_count": null,
   "metadata": {},
   "outputs": [],
   "source": [
    "ds_properties_list = [cardinalityAndMaxSizeMeter(ds) for ds in ds_generator_list]"
   ]
  },
  {
   "cell_type": "code",
   "execution_count": null,
   "metadata": {},
   "outputs": [],
   "source": [
    "ds_properties_dict = {\n",
    "                        \"-\".join(ds_path.split(\"/\")[-1].split(\".\")[0].split(\"-\")[0:2]):\n",
    "                            {\"cardinality\":cardinality, \"max_size\":max_size}\n",
    "                        for ds_path, (cardinality, max_size) in zip(ds_path_list, ds_properties_list)\n",
    "                        }"
   ]
  },
  {
   "cell_type": "code",
   "execution_count": null,
   "metadata": {},
   "outputs": [],
   "source": [
    "df = pd.DataFrame(ds_properties_dict)\n",
    "df"
   ]
  },
  {
   "cell_type": "code",
   "execution_count": null,
   "metadata": {},
   "outputs": [],
   "source": [
    "max_molecule_size = max([ds_properties_dict[ds_name]['max_size'] for ds_name in ds_properties_dict.keys()])\n",
    "max_molecule_size"
   ]
  },
  {
   "cell_type": "markdown",
   "metadata": {},
   "source": [
    "# The tests"
   ]
  },
  {
   "cell_type": "code",
   "execution_count": null,
   "metadata": {},
   "outputs": [],
   "source": [
    "model = getModel(model_name=model_name, max_molecule_size=max_molecule_size)\n",
    "model.loadWeights(checkpoint_path)"
   ]
  },
  {
   "cell_type": "code",
   "execution_count": null,
   "metadata": {},
   "outputs": [],
   "source": [
    "errors_dict = {}\n",
    "\n",
    "for ds_path in ds_path_list:\n",
    "\n",
    "    # kcal/mol RMSE\n",
    "    rmse = datasetting.OneTestOnCOMP6v2(ds_path=ds_path, model=model, print_error=True)\n",
    "\n",
    "    # Store the error\n",
    "    ds_name = \"-\".join(ds_path.split(\"/\")[-1].split(\".\")[0].split(\"-\")[0:2])\n",
    "    errors_dict[ds_name] = rmse"
   ]
  },
  {
   "cell_type": "code",
   "execution_count": null,
   "metadata": {},
   "outputs": [],
   "source": [
    "datasetting.addRowToCSV(df_path=\"results/comp6v2.csv\", errors_dict=errors_dict, checkpoint_name=checkpoint_path.split(\"/\")[-1])"
   ]
  },
  {
   "cell_type": "markdown",
   "metadata": {},
   "source": [
    "# Visualise the results"
   ]
  },
  {
   "cell_type": "code",
   "execution_count": null,
   "metadata": {},
   "outputs": [],
   "source": [
    "benchmark_df = pd.read_csv(\"results/comp6v2.csv\")"
   ]
  },
  {
   "cell_type": "code",
   "execution_count": null,
   "metadata": {},
   "outputs": [],
   "source": [
    "benchmark_df['mean'] = benchmark_df.drop(['model', 'ANI-BenchMD'], axis=1).mean(axis=1)"
   ]
  },
  {
   "cell_type": "code",
   "execution_count": null,
   "metadata": {},
   "outputs": [],
   "source": [
    "final_df = benchmark_df.sort_values(by=['mean']).head(2)\n",
    "final_df"
   ]
  },
  {
   "cell_type": "code",
   "execution_count": null,
   "metadata": {},
   "outputs": [],
   "source": [
    "final_df = final_df.set_index('model').drop(['ANI-BenchMD'], axis=1)"
   ]
  },
  {
   "cell_type": "code",
   "execution_count": null,
   "metadata": {},
   "outputs": [],
   "source": [
    "anakin_mean = final_df.loc['ANI-2x[0]']['mean']\n",
    "obiwan_mean = final_df.loc['obiroi_sepnorm_ani1Uani2_FH_VL_2.404']['mean']\n",
    "\n",
    "anakin_legend = f'anakin (mean = {anakin_mean:.2f})'\n",
    "obiwan_legend = f'obiwan (mean = {obiwan_mean:.2f})'"
   ]
  },
  {
   "cell_type": "code",
   "execution_count": null,
   "metadata": {},
   "outputs": [],
   "source": [
    "final_df = final_df.drop(['mean'], axis=1)"
   ]
  },
  {
   "cell_type": "code",
   "execution_count": null,
   "metadata": {},
   "outputs": [],
   "source": [
    "anakin_bars = final_df.loc['ANI-2x[0]'].to_numpy()\n",
    "obiwan_bars = final_df.loc['obiroi_sepnorm_ani1Uani2_FH_VL_2.404'].to_numpy()"
   ]
  },
  {
   "cell_type": "code",
   "execution_count": null,
   "metadata": {},
   "outputs": [],
   "source": [
    "x_ticks = final_df.columns"
   ]
  },
  {
   "cell_type": "code",
   "execution_count": null,
   "metadata": {},
   "outputs": [],
   "source": [
    "plt.rc('font', size=20)\n",
    "\n",
    "x_axis = np.arange(len(x_ticks))\n",
    "\n",
    "plt.bar(x=x_axis-0.2, height=anakin_bars, width=0.4, label=anakin_legend, color='red', zorder=2)\n",
    "plt.bar(x=x_axis+0.2, height=obiwan_bars, width=0.4, label=obiwan_legend, color='blue', zorder=2)\n",
    "\n",
    "# display the error on top of the bars, rounded to 1 decimal places\n",
    "for i, v in enumerate(anakin_bars):\n",
    "    plt.text(i-0.2, v + 0.05, f'{v:.1f}', ha='center', va='bottom', fontsize=12)\n",
    "\n",
    "for i, v in enumerate(obiwan_bars):\n",
    "    plt.text(i+0.2, v + 0.05, f'{v:.1f}', ha='center', va='bottom', fontsize=12)\n",
    "\n",
    "plt.xticks(x_axis, x_ticks, rotation=60, ha='right', rotation_mode='anchor')\n",
    "plt.xlabel('COMP6v2 subset')\n",
    "plt.ylabel('RMSE [kcal/mol]')\n",
    "\n",
    "plt.title('Energy errors on the COMP6v2 test set')\n",
    "\n",
    "plt.legend()\n",
    "\n",
    "plt.grid(color='0.9', zorder=1)\n",
    "\n",
    "fig = plt.gcf()\n",
    "fig.set_size_inches(20, 8)"
   ]
  },
  {
   "cell_type": "code",
   "execution_count": null,
   "metadata": {},
   "outputs": [],
   "source": [
    "with open(\"results/logs/comp6_final_test/obiwan_ani.json\", \"r\") as f:\n",
    "    obiwan_on_anis = json.load(f)\n",
    "obiwan_on_anis = obiwan_on_anis['obiwan_ani']"
   ]
  },
  {
   "cell_type": "code",
   "execution_count": null,
   "metadata": {},
   "outputs": [],
   "source": [
    "energy_rmse = obiwan_on_anis['energyRMSE']\n",
    "val_energy_rmse = obiwan_on_anis['val_energyRMSE']\n",
    "\n",
    "forces_rmse = obiwan_on_anis['forcesRMSE']\n",
    "val_forces_rmse = obiwan_on_anis['val_forcesRMSE']"
   ]
  },
  {
   "cell_type": "code",
   "execution_count": null,
   "metadata": {},
   "outputs": [],
   "source": [
    "# reset all matplotlib parameters to their default values\n",
    "plt.rcdefaults()\n",
    "\n",
    "plt.rc('font', size=14)\n",
    "\n",
    "plt.plot(energy_rmse, color='cyan', label='training')\n",
    "plt.plot(val_energy_rmse, color='blue', label='validation')\n",
    "\n",
    "plt.legend()\n",
    "plt.ylim(0., 10.)\n",
    "plt.xlabel('Epoch')\n",
    "plt.ylabel('RMSE [kcal/mol]')\n",
    "plt.title('OBIWAN learning curves for energy prediction on the complete ANAKIN dataset', fontsize=13)\n",
    "\n",
    "plt.axhline(y=1, color='black', linestyle='-.')\n",
    "plt.text(0, 1.1, 'chemical accuracy', color = 'black')\n",
    "\n",
    "plt.yticks(range(11))\n",
    "plt.grid(color='0.9')\n",
    "\n",
    "fig = plt.gcf()\n",
    "fig.set_size_inches(10, 8)\n",
    "\n",
    "plt.savefig(\"results/ani1U2_energy_error.png\", dpi=300)"
   ]
  }
 ],
 "metadata": {
  "kernelspec": {
   "display_name": "obiwan",
   "language": "python",
   "name": "python3"
  },
  "language_info": {
   "codemirror_mode": {
    "name": "ipython",
    "version": 3
   },
   "file_extension": ".py",
   "mimetype": "text/x-python",
   "name": "python",
   "nbconvert_exporter": "python",
   "pygments_lexer": "ipython3",
   "version": "3.9.18"
  },
  "orig_nbformat": 4
 },
 "nbformat": 4,
 "nbformat_minor": 2
}
